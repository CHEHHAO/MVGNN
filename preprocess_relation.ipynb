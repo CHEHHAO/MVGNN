{
 "cells": [
  {
   "cell_type": "code",
   "execution_count": 1,
   "metadata": {},
   "outputs": [],
   "source": [
    "import pandas as pd\n",
    "import polars as pl\n",
    "import utils\n",
    "from datetime import datetime"
   ]
  },
  {
   "cell_type": "code",
   "execution_count": 2,
   "metadata": {},
   "outputs": [],
   "source": [
    "def data_info(df):\n",
    "    print(df.shape)\n",
    "    # 查看过滤后的 DATE 范围（以整数形式获取最小和最大值）\n",
    "    min_date = df.select(pl.col(\"DATE\").min()).to_series()[0]\n",
    "    max_date = df.select(pl.col(\"DATE\").max()).to_series()[0]\n",
    "    print(f\"\\n过滤后的数据 DATE 范围（整数格式）：最小值 = {min_date}, 最大值 = {max_date}\")\n",
    "\n",
    "    # 如果希望将整数格式转换为 datetime 格式，可以使用如下函数\n",
    "    def int_to_date(date_int):\n",
    "        return datetime.strptime(str(date_int), \"%Y%m%d\")\n",
    "\n",
    "    print(f\"转换后：最小日期 = {int_to_date(min_date)}, 最大日期 = {int_to_date(max_date)}\")\n",
    "\n",
    "    # 统计唯一的 permno 数量\n",
    "    permno_count = df.select(pl.col(\"permno\").n_unique()).to_series()[0]\n",
    "    print(f\"\\n唯一 permno 数量：{permno_count}\")"
   ]
  },
  {
   "cell_type": "code",
   "execution_count": 51,
   "metadata": {},
   "outputs": [],
   "source": [
    "def count_permno(df):\n",
    "    # 统计唯一的 permno 数量\n",
    "    count = df.select(pl.col(\"permno\").n_unique()).to_series()[0]\n",
    "    print(f\"\\n唯一 count 数量：{count}\")\n"
   ]
  },
  {
   "cell_type": "code",
   "execution_count": 65,
   "metadata": {},
   "outputs": [
    {
     "name": "stdout",
     "output_type": "stream",
     "text": [
      "(793967, 5)\n",
      "\n",
      "过滤后的数据 DATE 范围（整数格式）：最小值 = 20110131, 最大值 = 20220131\n",
      "转换后：最小日期 = 2011-01-31 00:00:00, 最大日期 = 2022-01-31 00:00:00\n",
      "\n",
      "唯一 permno 数量：10734\n",
      "shape: (2, 5)\n",
      "┌────────┬──────────┬────────┬────────────┬────────────┐\n",
      "│ permno ┆ DATE     ┆ TICKER ┆ CUSIP      ┆ RET_target │\n",
      "│ ---    ┆ ---      ┆ ---    ┆ ---        ┆ ---        │\n",
      "│ i64    ┆ i64      ┆ str    ┆ f64        ┆ f64        │\n",
      "╞════════╪══════════╪════════╪════════════╪════════════╡\n",
      "│ 46068  ┆ 20220131 ┆ WSO    ┆ 9.426221e7 ┆ -0.100403  │\n",
      "│ 66376  ┆ 20220131 ┆ WSO    ┆ 9.426222e7 ┆ -0.090674  │\n",
      "└────────┴──────────┴────────┴────────────┴────────────┘\n"
     ]
    }
   ],
   "source": [
    "ret_data = utils.load_data(\"data/raw_data/return_processed.csv\")\n",
    "data_info(ret_data)\n",
    "print(ret_data.filter((pl.col('TICKER') == 'WSO') & (pl.col('DATE') == 20220131)))"
   ]
  },
  {
   "cell_type": "code",
   "execution_count": 73,
   "metadata": {},
   "outputs": [
    {
     "name": "stdout",
     "output_type": "stream",
     "text": [
      "(109800, 98)\n",
      "\n",
      "过滤后的数据 DATE 范围（整数格式）：最小值 = 20180131, 最大值 = 20201231\n",
      "转换后：最小日期 = 2018-01-31 00:00:00, 最大日期 = 2020-12-31 00:00:00\n",
      "\n",
      "唯一 permno 数量：3050\n",
      "shape: (1, 98)\n",
      "┌──────────┬────────┬──────────┬───────────┬───┬───────────┬───────────┬──────┬────────────┐\n",
      "│ DATE     ┆ permno ┆ mvel1    ┆ beta      ┆ … ┆ std_turn  ┆ zerotrade ┆ sic2 ┆ RET_target │\n",
      "│ ---      ┆ ---    ┆ ---      ┆ ---       ┆   ┆ ---       ┆ ---       ┆ ---  ┆ ---        │\n",
      "│ i64      ┆ i64    ┆ f64      ┆ f64       ┆   ┆ f64       ┆ f64       ┆ f64  ┆ f64        │\n",
      "╞══════════╪════════╪══════════╪═══════════╪═══╪═══════════╪═══════════╪══════╪════════════╡\n",
      "│ 20201231 ┆ 46068  ┆ 0.191327 ┆ -0.754677 ┆ … ┆ -0.997449 ┆ 0.988946  ┆ 50.0 ┆ 0.054517   │\n",
      "└──────────┴────────┴──────────┴───────────┴───┴───────────┴───────────┴──────┴────────────┘\n",
      "shape: (1, 98)\n",
      "┌──────────┬────────┬──────────┬───────────┬───┬───────────┬───────────┬──────┬────────────┐\n",
      "│ DATE     ┆ permno ┆ mvel1    ┆ beta      ┆ … ┆ std_turn  ┆ zerotrade ┆ sic2 ┆ RET_target │\n",
      "│ ---      ┆ ---    ┆ ---      ┆ ---       ┆   ┆ ---       ┆ ---       ┆ ---  ┆ ---        │\n",
      "│ i64      ┆ i64    ┆ f64      ┆ f64       ┆   ┆ f64       ┆ f64       ┆ f64  ┆ f64        │\n",
      "╞══════════╪════════╪══════════╪═══════════╪═══╪═══════════╪═══════════╪══════╪════════════╡\n",
      "│ 20201231 ┆ 66376  ┆ 0.675595 ┆ -0.669643 ┆ … ┆ -0.366497 ┆ 0.254252  ┆ 50.0 ┆ 0.060539   │\n",
      "└──────────┴────────┴──────────┴───────────┴───┴───────────┴───────────┴──────┴────────────┘\n"
     ]
    }
   ],
   "source": [
    "vgnn_data = utils.load_data('data/saved_data.csv')\n",
    "data_info(vgnn_data)\n",
    "print(vgnn_data.filter((pl.col('permno') == 46068) & (pl.col('DATE') == 20201231)))\n",
    "print(vgnn_data.filter((pl.col('permno') == 66376) & (pl.col('DATE') == 20201231)))"
   ]
  },
  {
   "cell_type": "code",
   "execution_count": 5,
   "metadata": {},
   "outputs": [
    {
     "name": "stdout",
     "output_type": "stream",
     "text": [
      "筛选后大表中 permno 的数量: 3050\n"
     ]
    }
   ],
   "source": [
    "# 假设 vgnn_data 和 sub6_data 都是 Polars DataFrame\n",
    "# 获取小表中唯一的 permno 值\n",
    "permno_list = vgnn_data['permno'].unique()\n",
    "\n",
    "# 使用 Polars 的 is_in 方法筛选大表\n",
    "filtered_ret_df = ret_data.filter(pl.col('permno').is_in(permno_list))\n",
    "\n",
    "# 查看筛选后大表中唯一 permno 的数量\n",
    "filtered_permno_count = filtered_ret_df['permno'].n_unique()\n",
    "print(f\"筛选后大表中 permno 的数量: {filtered_permno_count}\")\n"
   ]
  },
  {
   "cell_type": "code",
   "execution_count": 6,
   "metadata": {},
   "outputs": [
    {
     "name": "stdout",
     "output_type": "stream",
     "text": [
      "(3050, 5)\n",
      "(3050, 2)\n",
      "shape: (10, 2)\n",
      "┌────────┬────────┐\n",
      "│ permno ┆ TICKER │\n",
      "│ ---    ┆ ---    │\n",
      "│ i64    ┆ str    │\n",
      "╞════════╪════════╡\n",
      "│ 92043  ┆ IBKR   │\n",
      "│ 11293  ┆ WSBC   │\n",
      "│ 12082  ┆ MMYT   │\n",
      "│ 89941  ┆ TZOO   │\n",
      "│ 93073  ┆ ADUS   │\n",
      "│ 93237  ┆ TENX   │\n",
      "│ 90989  ┆ CCO    │\n",
      "│ 85082  ┆ EGP    │\n",
      "│ 92439  ┆ IFGL   │\n",
      "│ 17444  ┆ BELFA  │\n",
      "└────────┴────────┘\n",
      "TICKER 列的 null 值数量: 0\n"
     ]
    }
   ],
   "source": [
    "df_filtered = filtered_ret_df.filter(pl.col(\"DATE\") == 20181031)\n",
    "print(df_filtered.shape)\n",
    "result_df = df_filtered.unique(subset=[\"permno\"]).select([\"permno\", \"TICKER\"])\n",
    "print(result_df.shape)\n",
    "print(result_df.head(10))\n",
    "null_count = result_df.select(pl.col(\"TICKER\").is_null().sum()).to_series()[0]\n",
    "print(\"TICKER 列的 null 值数量:\", null_count)\n"
   ]
  },
  {
   "cell_type": "code",
   "execution_count": null,
   "metadata": {},
   "outputs": [],
   "source": []
  },
  {
   "cell_type": "code",
   "execution_count": 7,
   "metadata": {},
   "outputs": [
    {
     "name": "stdout",
     "output_type": "stream",
     "text": [
      "(5177, 12)\n",
      "\n",
      "唯一 count 数量：5149\n"
     ]
    }
   ],
   "source": [
    "relation_data = utils.load_data('data/preprocess_data/firms_relation_ticker.csv')\n",
    "\n",
    "print(relation_data.shape)\n",
    "\n",
    "# 统计唯一的 permno 数量\n",
    "count = relation_data.select(pl.col(\"Exchange:Ticker\").n_unique()).to_series()[0]\n",
    "print(f\"\\n唯一 count 数量：{count}\")\n",
    "\n",
    "# print(relation_data.head(2))"
   ]
  },
  {
   "cell_type": "code",
   "execution_count": 23,
   "metadata": {},
   "outputs": [
    {
     "name": "stdout",
     "output_type": "stream",
     "text": [
      "shape: (10, 12)\n",
      "┌───────────┬───────────┬───────────┬───────────┬───┬───────────┬───────────┬───────────┬──────────┐\n",
      "│ Company   ┆ Exchange: ┆ Company   ┆ Exchanges ┆ … ┆ Industry  ┆ Headquart ┆ Security  ┆ Excel    │\n",
      "│ Name      ┆ Ticker    ┆ Type      ┆ [Primary  ┆   ┆ Classific ┆ ers - Cou ┆ Tickers   ┆ Company  │\n",
      "│ ---       ┆ ---       ┆ ---       ┆ Listing]  ┆   ┆ ations    ┆ ntry/Regi ┆ ---       ┆ ID       │\n",
      "│ str       ┆ str       ┆ str       ┆ ---       ┆   ┆ ---       ┆ on        ┆ str       ┆ ---      │\n",
      "│           ┆           ┆           ┆ str       ┆   ┆ str       ┆ ---       ┆           ┆ str      │\n",
      "│           ┆           ┆           ┆           ┆   ┆           ┆ str       ┆           ┆          │\n",
      "╞═══════════╪═══════════╪═══════════╪═══════════╪═══╪═══════════╪═══════════╪═══════════╪══════════╡\n",
      "│ 1-800-FLO ┆ FLWS      ┆ Public    ┆ Nasdaq    ┆ … ┆ Catalog   ┆ United    ┆ NasdaqGS: ┆ IQ24085  │\n",
      "│ WERS.COM, ┆           ┆ Company   ┆ Global    ┆   ┆ Flowers,  ┆ States    ┆ FLWS;     ┆          │\n",
      "│ Inc.      ┆           ┆           ┆ Select    ┆   ┆ Gifts and ┆           ┆ BMV:FLWS  ┆          │\n",
      "│ (Nasda…   ┆           ┆           ┆ (NasdaqGS ┆   ┆ Nov…      ┆           ┆ *         ┆          │\n",
      "│           ┆           ┆           ┆ …         ┆   ┆           ┆           ┆           ┆          │\n",
      "│ 10x       ┆ TXG       ┆ Public    ┆ Nasdaq    ┆ … ┆ Health    ┆ United    ┆ NasdaqGS: ┆ IQ223288 │\n",
      "│ Genomics, ┆           ┆ Company   ┆ Global    ┆   ┆ Care (Pri ┆ States    ┆ TXG;      ┆ 117      │\n",
      "│ Inc. (Nas ┆           ┆           ┆ Select    ┆   ┆ mary);    ┆           ┆ LSE:0A88; ┆          │\n",
      "│ daqGS:T…  ┆           ┆           ┆ (NasdaqGS ┆   ┆ Life Sc…  ┆           ┆ DB:1KJ…   ┆          │\n",
      "│           ┆           ┆           ┆ …         ┆   ┆           ┆           ┆           ┆          │\n",
      "│ 111, Inc. ┆ YI        ┆ Public    ┆ Nasdaq    ┆ … ┆ Consumer  ┆ China     ┆ NasdaqGM: ┆ IQ577608 │\n",
      "│ (NasdaqGM ┆           ┆ Company   ┆ Global    ┆   ┆ Staples   ┆           ┆ YI;       ┆ 285      │\n",
      "│ :YI)      ┆           ┆           ┆ Market    ┆   ┆ (Primary) ┆           ┆ DB:8110   ┆          │\n",
      "│           ┆           ┆           ┆ (NasdaqGM ┆   ┆ ; Co…     ┆           ┆           ┆          │\n",
      "│           ┆           ┆           ┆ …         ┆   ┆           ┆           ┆           ┆          │\n",
      "│ 17        ┆ YQ        ┆ Public    ┆ Nasdaq    ┆ … ┆ Consumer  ┆ China     ┆ NasdaqGS: ┆ IQ694905 │\n",
      "│ Education ┆           ┆ Company   ┆ Global    ┆   ┆ Discretio ┆           ┆ YQ        ┆ 802      │\n",
      "│ & Technol ┆           ┆           ┆ Select    ┆   ┆ nary      ┆           ┆           ┆          │\n",
      "│ ogy Grou… ┆           ┆           ┆ (NasdaqGS ┆   ┆ (Primar…  ┆           ┆           ┆          │\n",
      "│           ┆           ┆           ┆ …         ┆   ┆           ┆           ┆           ┆          │\n",
      "│ 180 Life  ┆ ATNF      ┆ Public    ┆ Nasdaq    ┆ … ┆ Biotechno ┆ United    ┆ NasdaqCM: ┆ IQ587644 │\n",
      "│ Sciences  ┆           ┆ Company   ┆ Capital   ┆   ┆ logy (Pri ┆ States    ┆ ATNF; Nas ┆ 367      │\n",
      "│ Corp.     ┆           ┆           ┆ Market    ┆   ┆ mary);    ┆           ┆ daqCM:ATN ┆          │\n",
      "│ (Nasda…   ┆           ┆           ┆ (NasdaqC… ┆   ┆ Biote…    ┆           ┆ F.W       ┆          │\n",
      "│ 1847      ┆ EFSH      ┆ Public    ┆ NYSE MKT  ┆ … ┆ Capital   ┆ United    ┆ NYSEAM:EF ┆ IQ256569 │\n",
      "│ Holdings  ┆           ┆ Company   ┆ LLC       ┆   ┆ Goods (Pr ┆ States    ┆ SH        ┆ 561      │\n",
      "│ LLC (NYSE ┆           ┆           ┆ (NYSEAM)  ┆   ┆ imary);   ┆           ┆           ┆          │\n",
      "│ AM:EFSH…  ┆           ┆           ┆           ┆   ┆ Indus…    ┆           ┆           ┆          │\n",
      "│ 1895      ┆ BCOW      ┆ Public    ┆ Nasdaq    ┆ … ┆ Banks (Pr ┆ United    ┆ NasdaqCM: ┆ IQ446895 │\n",
      "│ Bancorp   ┆           ┆ Company   ┆ Capital   ┆   ┆ imary);   ┆ States    ┆ BCOW      ┆ 3        │\n",
      "│ of Wiscon ┆           ┆           ┆ Market    ┆   ┆ Banks     ┆           ┆           ┆          │\n",
      "│ sin, Inc… ┆           ┆           ┆ (NasdaqC… ┆   ┆ (Primar…  ┆           ┆           ┆          │\n",
      "│ 1st       ┆ SRCE      ┆ Public    ┆ Nasdaq    ┆ … ┆ Banks (Pr ┆ United    ┆ NasdaqGS: ┆ IQ176404 │\n",
      "│ Source    ┆           ┆ Company   ┆ Global    ┆   ┆ imary);   ┆ States    ┆ SRCE      ┆          │\n",
      "│ Corporati ┆           ┆           ┆ Select    ┆   ┆ Banks     ┆           ┆           ┆          │\n",
      "│ on        ┆           ┆           ┆ (NasdaqGS ┆   ┆ (Primar…  ┆           ┆           ┆          │\n",
      "│ (Nasdaq…  ┆           ┆           ┆ …         ┆   ┆           ┆           ┆           ┆          │\n",
      "│ 1stdibs.C ┆ DIBS      ┆ Public    ┆ Nasdaq    ┆ … ┆ Broadline ┆ United    ┆ NasdaqGM: ┆ IQ129622 │\n",
      "│ om, Inc.  ┆           ┆ Company   ┆ Global    ┆   ┆ Retail    ┆ States    ┆ DIBS      ┆ 619      │\n",
      "│ (NasdaqGM ┆           ┆           ┆ Market    ┆   ┆ (Primary) ┆           ┆           ┆          │\n",
      "│ :DI…      ┆           ┆           ┆ (NasdaqGM ┆   ┆ ; Br…     ┆           ┆           ┆          │\n",
      "│           ┆           ┆           ┆ …         ┆   ┆           ┆           ┆           ┆          │\n",
      "│ 22nd      ┆ XXII      ┆ Public    ┆ Nasdaq    ┆ … ┆ Cigarette ┆ United    ┆ NasdaqCM: ┆ IQ243782 │\n",
      "│ Century   ┆           ┆ Company   ┆ Capital   ┆   ┆ s (Primar ┆ States    ┆ XXII      ┆ 07       │\n",
      "│ Group,    ┆           ┆           ┆ Market    ┆   ┆ y);       ┆           ┆           ┆          │\n",
      "│ Inc.      ┆           ┆           ┆ (NasdaqC… ┆   ┆ Consumer… ┆           ┆           ┆          │\n",
      "│ (Nasd…    ┆           ┆           ┆           ┆   ┆           ┆           ┆           ┆          │\n",
      "└───────────┴───────────┴───────────┴───────────┴───┴───────────┴───────────┴───────────┴──────────┘\n",
      "(4799, 12)\n"
     ]
    }
   ],
   "source": [
    "# filtered_ret_df.filter(pl.col(\"DATE\") == 20181031)\n",
    "flitered_relation = relation_data.filter(pl.col(\"Exchanges [Primary Listing]\") != '-')\n",
    "# flitered_relation = relation_data.filter(pl.col(\"Exchange:Ticker\") == 'TEL')\n",
    "print(flitered_relation.head(10))\n",
    "print(flitered_relation.shape)"
   ]
  },
  {
   "cell_type": "code",
   "execution_count": 61,
   "metadata": {},
   "outputs": [
    {
     "name": "stdout",
     "output_type": "stream",
     "text": [
      "<class 'polars.dataframe.frame.DataFrame'>\n",
      "<class 'polars.dataframe.frame.DataFrame'>\n",
      "shape: (2, 2)\n",
      "┌────────┬────────┐\n",
      "│ permno ┆ TICKER │\n",
      "│ ---    ┆ ---    │\n",
      "│ i64    ┆ str    │\n",
      "╞════════╪════════╡\n",
      "│ 66376  ┆ WSO    │\n",
      "│ 46068  ┆ WSO    │\n",
      "└────────┴────────┘\n"
     ]
    }
   ],
   "source": [
    "print(type(flitered_relation))\n",
    "print(type(result_df))\n",
    "\n",
    "print(result_df.filter(pl.col('TICKER') == 'WSO'))"
   ]
  },
  {
   "cell_type": "code",
   "execution_count": 53,
   "metadata": {},
   "outputs": [
    {
     "name": "stdout",
     "output_type": "stream",
     "text": [
      "(3064, 13)\n",
      "shape: (3_064, 2)\n",
      "┌────────┬────────┐\n",
      "│ TICKER ┆ permno │\n",
      "│ ---    ┆ ---    │\n",
      "│ str    ┆ i64    │\n",
      "╞════════╪════════╡\n",
      "│ IBKR   ┆ 92043  │\n",
      "│ WSBC   ┆ 11293  │\n",
      "│ MMYT   ┆ 12082  │\n",
      "│ TZOO   ┆ 89941  │\n",
      "│ ADUS   ┆ 93073  │\n",
      "│ …      ┆ …      │\n",
      "│ CULP   ┆ 27909  │\n",
      "│ PRK    ┆ 76266  │\n",
      "│ DOV    ┆ 25953  │\n",
      "│ EME    ┆ 82694  │\n",
      "│ LPX    ┆ 56223  │\n",
      "└────────┴────────┘\n",
      "\n",
      "唯一 count 数量：3033\n"
     ]
    }
   ],
   "source": [
    "merged_df = result_df.join(relation_data, left_on=\"TICKER\", right_on=\"Exchange:Ticker\", how=\"left\")\n",
    "\n",
    "print(merged_df.shape)\n",
    "print(merged_df[['TICKER', 'permno']])\n",
    "count = merged_df.select(pl.col(\"TICKER\").n_unique()).to_series()[0]\n",
    "print(f\"\\n唯一 count 数量：{count}\")"
   ]
  },
  {
   "cell_type": "code",
   "execution_count": 57,
   "metadata": {},
   "outputs": [
    {
     "name": "stdout",
     "output_type": "stream",
     "text": [
      "(62, 13)\n",
      "shape: (62, 2)\n",
      "┌────────┬────────┐\n",
      "│ TICKER ┆ permno │\n",
      "│ ---    ┆ ---    │\n",
      "│ str    ┆ i64    │\n",
      "╞════════╪════════╡\n",
      "│ CCO    ┆ 90989  │\n",
      "│ CCO    ┆ 90989  │\n",
      "│ BIO    ┆ 61508  │\n",
      "│ MKC    ┆ 89155  │\n",
      "│ STZ    ┆ 64899  │\n",
      "│ …      ┆ …      │\n",
      "│ K      ┆ 26825  │\n",
      "│ HEI    ┆ 85945  │\n",
      "│ PPL    ┆ 22517  │\n",
      "│ PPL    ┆ 22517  │\n",
      "│ TAP    ┆ 59248  │\n",
      "└────────┴────────┘\n"
     ]
    }
   ],
   "source": [
    "# 假设 df 是你的 DataFrame\n",
    "duplicates = (\n",
    "    merged_df.group_by(\"TICKER\")\n",
    "      .agg(pl.len().alias(\"count\"))\n",
    "      .filter(pl.col(\"count\") > 1)\n",
    "\n",
    ")\n",
    "# 2. 提取重复的 TICKER 列表\n",
    "dup_tickers = duplicates[\"TICKER\"].to_list()\n",
    "\n",
    "# 3. 使用 is_in 筛选出原始 DataFrame 中 TICKER 在重复列表中的行\n",
    "df_duplicates = merged_df.filter(pl.col(\"TICKER\").is_in(dup_tickers))\n",
    "\n",
    "print(df_duplicates.shape)\n",
    "print(df_duplicates[['TICKER', 'permno']])\n"
   ]
  },
  {
   "cell_type": "code",
   "execution_count": 44,
   "metadata": {},
   "outputs": [
    {
     "name": "stdout",
     "output_type": "stream",
     "text": [
      "shape: (62, 13)\n",
      "┌────────────┬────────────┬────────────┬────────────┬───┬────────────┬───────────┬────────┬────────┐\n",
      "│ Company    ┆ Company    ┆ Exchanges  ┆ Business   ┆ … ┆ Security   ┆ Excel     ┆ permno ┆ TICKER │\n",
      "│ Name       ┆ Type       ┆ [Primary   ┆ Relationsh ┆   ┆ Tickers    ┆ Company   ┆ ---    ┆ ---    │\n",
      "│ ---        ┆ ---        ┆ Listing]   ┆ ips (All   ┆   ┆ ---        ┆ ID        ┆ i64    ┆ str    │\n",
      "│ str        ┆ str        ┆ ---        ┆ Hi…        ┆   ┆ str        ┆ ---       ┆        ┆        │\n",
      "│            ┆            ┆ str        ┆ ---        ┆   ┆            ┆ str       ┆        ┆        │\n",
      "│            ┆            ┆            ┆ str        ┆   ┆            ┆           ┆        ┆        │\n",
      "╞════════════╪════════════╪════════════╪════════════╪═══╪════════════╪═══════════╪════════╪════════╡\n",
      "│ Cameco Cor ┆ Public     ┆ -          ┆ Ahtium Oyj ┆ … ┆ TSX:CCO;   ┆ IQ379153  ┆ 90989  ┆ CCO    │\n",
      "│ poration   ┆ Company    ┆            ┆ (Supplier  ┆   ┆ NYSE:CCJ;  ┆           ┆        ┆        │\n",
      "│ (TSX:CCO)  ┆            ┆            ┆ (not rece… ┆   ┆ LSE:0R35;  ┆           ┆        ┆        │\n",
      "│            ┆            ┆            ┆            ┆   ┆ D…         ┆           ┆        ┆        │\n",
      "│ Clear      ┆ Public     ┆ New York   ┆ Albuquerqu ┆ … ┆ NYSE:CCO;  ┆ IQ2349951 ┆ 90989  ┆ CCO    │\n",
      "│ Channel    ┆ Company    ┆ Stock      ┆ e Public   ┆   ┆ DB:C7C1    ┆ 8         ┆        ┆        │\n",
      "│ Outdoor    ┆            ┆ Exchange   ┆ School     ┆   ┆            ┆           ┆        ┆        │\n",
      "│ Holdings…  ┆            ┆ (NYSE)     ┆ Dist…      ┆   ┆            ┆           ┆        ┆        │\n",
      "│ Bio-Rad    ┆ Public     ┆ New York   ┆ 10x        ┆ … ┆ NYSE:BIO;  ┆ IQ255743  ┆ 61508  ┆ BIO    │\n",
      "│ Laboratori ┆ Company    ┆ Stock      ┆ Genomics,  ┆   ┆ NYSE:BIO.B ┆           ┆        ┆        │\n",
      "│ es, Inc.   ┆            ┆ Exchange   ┆ Inc. (Nasd ┆   ┆ ;          ┆           ┆        ┆        │\n",
      "│ (NY…       ┆            ┆ (NYSE)     ┆ aqGS:T…    ┆   ┆ DB:BUWA;…  ┆           ┆        ┆        │\n",
      "│ McCormick  ┆ Public     ┆ New York   ┆ Advantage  ┆ … ┆ NYSE:MKC;  ┆ IQ181176  ┆ 89155  ┆ MKC    │\n",
      "│ & Company, ┆ Company    ┆ Stock      ┆ Sales &    ┆   ┆ WBAG:MKC;  ┆           ┆        ┆        │\n",
      "│ Incorpora… ┆            ┆ Exchange   ┆ Marketing  ┆   ┆ NYSE:MKC.V ┆           ┆        ┆        │\n",
      "│            ┆            ┆ (NYSE)     ┆ LL…        ┆   ┆ …          ┆           ┆        ┆        │\n",
      "│ Constellat ┆ Public     ┆ New York   ┆ 1st Consti ┆ … ┆ NYSE:STZ;  ┆ IQ258589  ┆ 64899  ┆ STZ    │\n",
      "│ ion        ┆ Company    ┆ Stock      ┆ tution     ┆   ┆ WBAG:STZ;  ┆           ┆        ┆        │\n",
      "│ Brands,    ┆            ┆ Exchange   ┆ Bank       ┆   ┆ BMV:STZ    ┆           ┆        ┆        │\n",
      "│ Inc. (NY…  ┆            ┆ (NYSE)     ┆ (Credito…  ┆   ┆ *;…        ┆           ┆        ┆        │\n",
      "│ …          ┆ …          ┆ …          ┆ …          ┆ … ┆ …          ┆ …         ┆ …      ┆ …      │\n",
      "│ Kinross    ┆ Public     ┆ -          ┆ Aggreko    ┆ … ┆ TSX:K; OTC ┆ IQ297179  ┆ 26825  ┆ K      │\n",
      "│ Gold Corpo ┆ Company    ┆            ┆ Limited    ┆   ┆ PK:KGCR.F; ┆           ┆        ┆        │\n",
      "│ ration     ┆            ┆            ┆ (Lessor    ┆   ┆ XTRA:KIN2… ┆           ┆        ┆        │\n",
      "│ (TSX:…     ┆            ┆            ┆ (not r…    ┆   ┆            ┆           ┆        ┆        │\n",
      "│ HEICO Corp ┆ Public     ┆ New York   ┆ Amerant    ┆ … ┆ NYSE:HEI;  ┆ IQ278143  ┆ 85945  ┆ HEI    │\n",
      "│ oration    ┆ Company    ┆ Stock      ┆ Bank,      ┆   ┆ NYSE:HEI.A ┆           ┆        ┆        │\n",
      "│ (NYSE:HEI) ┆            ┆ Exchange   ┆ National   ┆   ┆ ;          ┆           ┆        ┆        │\n",
      "│            ┆            ┆ (NYSE)     ┆ Associa…   ┆   ┆ LSE:0J46…  ┆           ┆        ┆        │\n",
      "│ Pembina    ┆ Public     ┆ -          ┆ Alberta    ┆ … ┆ TSX:PPL;   ┆ IQ881430  ┆ 22517  ┆ PPL    │\n",
      "│ Pipeline   ┆ Company    ┆            ┆ Oil Sands  ┆   ┆ TSX:PPL.PR ┆           ┆        ┆        │\n",
      "│ Corporatio ┆            ┆            ┆ Pipeline   ┆   ┆ G;         ┆           ┆        ┆        │\n",
      "│ n (…       ┆            ┆            ┆ Ltd…       ┆   ┆ TSX:PPL.…  ┆           ┆        ┆        │\n",
      "│ PPL Corpor ┆ Public     ┆ New York   ┆ Alternate  ┆ … ┆ NYSE:PPL;  ┆ IQ185508  ┆ 22517  ┆ PPL    │\n",
      "│ ation      ┆ Company    ┆ Stock      ┆ Energy     ┆   ┆ LSE:0KEJ;  ┆           ┆        ┆        │\n",
      "│ (NYSE:PPL) ┆            ┆ Exchange   ┆ Holdings   ┆   ┆ BMV:PPLC   ┆           ┆        ┆        │\n",
      "│            ┆            ┆ (NYSE)     ┆ Inc.…      ┆   ┆ *…         ┆           ┆        ┆        │\n",
      "│ Molson     ┆ Public     ┆ New York   ┆ 4iG Nyrt.  ┆ … ┆ NYSE:TAP;  ┆ IQ263765  ┆ 59248  ┆ TAP    │\n",
      "│ Coors      ┆ Company    ┆ Stock      ┆ (BUSE:4IG) ┆   ┆ NYSE:TAP.A ┆           ┆        ┆        │\n",
      "│ Beverage   ┆            ┆ Exchange   ┆ (Supplier… ┆   ┆ ;          ┆           ┆        ┆        │\n",
      "│ Company …  ┆            ┆ (NYSE)     ┆            ┆   ┆ LSE:0K2K…  ┆           ┆        ┆        │\n",
      "└────────────┴────────────┴────────────┴────────────┴───┴────────────┴───────────┴────────┴────────┘\n"
     ]
    }
   ],
   "source": [
    "# 假设 df 是你的 DataFrame\n",
    "duplicates = (\n",
    "    merged_df.group_by(\"TICKER\")\n",
    "      .agg(pl.len().alias(\"count\"))\n",
    "      .filter(pl.col(\"count\") > 1)\n",
    "\n",
    ")\n",
    "# 2. 提取重复的 TICKER 列表\n",
    "dup_tickers = duplicates[\"TICKER\"].to_list()\n",
    "\n",
    "# 3. 使用 is_in 筛选出原始 DataFrame 中 TICKER 在重复列表中的行\n",
    "df_duplicates = merged_df.filter(pl.col(\"TICKER\").is_in(dup_tickers))\n",
    "\n",
    "print(df_duplicates)\n"
   ]
  },
  {
   "cell_type": "code",
   "execution_count": 52,
   "metadata": {},
   "outputs": [
    {
     "name": "stdout",
     "output_type": "stream",
     "text": [
      "(22, 13)\n",
      "shape: (22, 13)\n",
      "┌────────────┬────────────┬────────────┬────────────┬───┬────────────┬───────────┬────────┬────────┐\n",
      "│ Company    ┆ Company    ┆ Exchanges  ┆ Business   ┆ … ┆ Security   ┆ Excel     ┆ permno ┆ TICKER │\n",
      "│ Name       ┆ Type       ┆ [Primary   ┆ Relationsh ┆   ┆ Tickers    ┆ Company   ┆ ---    ┆ ---    │\n",
      "│ ---        ┆ ---        ┆ Listing]   ┆ ips (All   ┆   ┆ ---        ┆ ID        ┆ i64    ┆ str    │\n",
      "│ str        ┆ str        ┆ ---        ┆ Hi…        ┆   ┆ str        ┆ ---       ┆        ┆        │\n",
      "│            ┆            ┆ str        ┆ ---        ┆   ┆            ┆ str       ┆        ┆        │\n",
      "│            ┆            ┆            ┆ str        ┆   ┆            ┆           ┆        ┆        │\n",
      "╞════════════╪════════════╪════════════╪════════════╪═══╪════════════╪═══════════╪════════╪════════╡\n",
      "│ Bio-Rad    ┆ Public     ┆ New York   ┆ 10x        ┆ … ┆ NYSE:BIO;  ┆ IQ255743  ┆ 61508  ┆ BIO    │\n",
      "│ Laboratori ┆ Company    ┆ Stock      ┆ Genomics,  ┆   ┆ NYSE:BIO.B ┆           ┆        ┆        │\n",
      "│ es, Inc.   ┆            ┆ Exchange   ┆ Inc. (Nasd ┆   ┆ ;          ┆           ┆        ┆        │\n",
      "│ (NY…       ┆            ┆ (NYSE)     ┆ aqGS:T…    ┆   ┆ DB:BUWA;…  ┆           ┆        ┆        │\n",
      "│ McCormick  ┆ Public     ┆ New York   ┆ Advantage  ┆ … ┆ NYSE:MKC;  ┆ IQ181176  ┆ 89155  ┆ MKC    │\n",
      "│ & Company, ┆ Company    ┆ Stock      ┆ Sales &    ┆   ┆ WBAG:MKC;  ┆           ┆        ┆        │\n",
      "│ Incorpora… ┆            ┆ Exchange   ┆ Marketing  ┆   ┆ NYSE:MKC.V ┆           ┆        ┆        │\n",
      "│            ┆            ┆ (NYSE)     ┆ LL…        ┆   ┆ …          ┆           ┆        ┆        │\n",
      "│ Constellat ┆ Public     ┆ New York   ┆ 1st Consti ┆ … ┆ NYSE:STZ;  ┆ IQ258589  ┆ 64899  ┆ STZ    │\n",
      "│ ion        ┆ Company    ┆ Stock      ┆ tution     ┆   ┆ WBAG:STZ;  ┆           ┆        ┆        │\n",
      "│ Brands,    ┆            ┆ Exchange   ┆ Bank       ┆   ┆ BMV:STZ    ┆           ┆        ┆        │\n",
      "│ Inc. (NY…  ┆            ┆ (NYSE)     ┆ (Credito…  ┆   ┆ *;…        ┆           ┆        ┆        │\n",
      "│ Watsco,    ┆ Public     ┆ New York   ┆ Amerant    ┆ … ┆ NYSE:WSO;  ┆ IQ313461  ┆ 66376  ┆ WSO    │\n",
      "│ Inc.       ┆ Company    ┆ Stock      ┆ Bank,      ┆   ┆ NYSE:WSO.B ┆           ┆        ┆        │\n",
      "│ (NYSE:WSO) ┆            ┆ Exchange   ┆ National   ┆   ┆ ; BMV:WSO  ┆           ┆        ┆        │\n",
      "│            ┆            ┆ (NYSE)     ┆ Associa…   ┆   ┆ …          ┆           ┆        ┆        │\n",
      "│ Watsco,    ┆ Public     ┆ New York   ┆ Amerant    ┆ … ┆ NYSE:WSO;  ┆ IQ313461  ┆ 46068  ┆ WSO    │\n",
      "│ Inc.       ┆ Company    ┆ Stock      ┆ Bank,      ┆   ┆ NYSE:WSO.B ┆           ┆        ┆        │\n",
      "│ (NYSE:WSO) ┆            ┆ Exchange   ┆ National   ┆   ┆ ; BMV:WSO  ┆           ┆        ┆        │\n",
      "│            ┆            ┆ (NYSE)     ┆ Associa…   ┆   ┆ …          ┆           ┆        ┆        │\n",
      "│ …          ┆ …          ┆ …          ┆ …          ┆ … ┆ …          ┆ …         ┆ …      ┆ …      │\n",
      "│ Federal    ┆ Public     ┆ New York   ┆ AgFirst    ┆ … ┆ NYSE:AGM;  ┆ IQ360653  ┆ 80169  ┆ AGM    │\n",
      "│ Agricultur ┆ Company    ┆ Stock      ┆ Farm       ┆   ┆ NYSE:AGM.A ┆           ┆        ┆        │\n",
      "│ al         ┆            ┆ Exchange   ┆ Credit     ┆   ┆ ;          ┆           ┆        ┆        │\n",
      "│ Mortgage … ┆            ┆ (NYSE)     ┆ Bank       ┆   ┆ NYSE:AGM…  ┆           ┆        ┆        │\n",
      "│            ┆            ┆            ┆ (Cust…     ┆   ┆            ┆           ┆        ┆        │\n",
      "│ Greif,     ┆ Public     ┆ New York   ┆ 1st Farm   ┆ … ┆ NYSE:GEF;  ┆ IQ377361  ┆ 83233  ┆ GEF    │\n",
      "│ Inc.       ┆ Company    ┆ Stock      ┆ Credit     ┆   ┆ NYSE:GEF.B ┆           ┆        ┆        │\n",
      "│ (NYSE:GEF) ┆            ┆ Exchange   ┆ Services,  ┆   ┆ ; DB:GR3;  ┆           ┆        ┆        │\n",
      "│            ┆            ┆ (NYSE)     ┆ PCA        ┆   ┆ …          ┆           ┆        ┆        │\n",
      "│            ┆            ┆            ┆ …          ┆   ┆            ┆           ┆        ┆        │\n",
      "│ Gray       ┆ Public     ┆ New York   ┆ Alphabet   ┆ … ┆ NYSE:GTN;  ┆ IQ322777  ┆ 83989  ┆ GTN    │\n",
      "│ Media,     ┆ Company    ┆ Stock      ┆ Inc. (Nasd ┆   ┆ NYSE:GTN.A ┆           ┆        ┆        │\n",
      "│ Inc.       ┆            ┆ Exchange   ┆ aqGS:GOOGL ┆   ┆ ;          ┆           ┆        ┆        │\n",
      "│ (NYSE:GTN) ┆            ┆ (NYSE)     ┆ )…         ┆   ┆ DB:GCZB;…  ┆           ┆        ┆        │\n",
      "│ HEICO Corp ┆ Public     ┆ New York   ┆ Amerant    ┆ … ┆ NYSE:HEI;  ┆ IQ278143  ┆ 85945  ┆ HEI    │\n",
      "│ oration    ┆ Company    ┆ Stock      ┆ Bank,      ┆   ┆ NYSE:HEI.A ┆           ┆        ┆        │\n",
      "│ (NYSE:HEI) ┆            ┆ Exchange   ┆ National   ┆   ┆ ;          ┆           ┆        ┆        │\n",
      "│            ┆            ┆ (NYSE)     ┆ Associa…   ┆   ┆ LSE:0J46…  ┆           ┆        ┆        │\n",
      "│ Molson     ┆ Public     ┆ New York   ┆ 4iG Nyrt.  ┆ … ┆ NYSE:TAP;  ┆ IQ263765  ┆ 59248  ┆ TAP    │\n",
      "│ Coors      ┆ Company    ┆ Stock      ┆ (BUSE:4IG) ┆   ┆ NYSE:TAP.A ┆           ┆        ┆        │\n",
      "│ Beverage   ┆            ┆ Exchange   ┆ (Supplier… ┆   ┆ ;          ┆           ┆        ┆        │\n",
      "│ Company …  ┆            ┆ (NYSE)     ┆            ┆   ┆ LSE:0K2K…  ┆           ┆        ┆        │\n",
      "└────────────┴────────────┴────────────┴────────────┴───┴────────────┴───────────┴────────┴────────┘\n",
      "\n",
      "唯一 count 数量：22\n"
     ]
    }
   ],
   "source": [
    "flitered = df_duplicates.filter(pl.col(\"Exchanges [Primary Listing]\") != '-')\n",
    "print(flitered.shape)\n",
    "print(flitered)\n",
    "\n",
    "count_permno(flitered)"
   ]
  },
  {
   "cell_type": "code",
   "execution_count": 48,
   "metadata": {},
   "outputs": [
    {
     "name": "stdout",
     "output_type": "stream",
     "text": [
      "shape: (22, 13)\n",
      "┌────────────┬────────────┬────────────┬────────────┬───┬────────────┬───────────┬────────┬────────┐\n",
      "│ Company    ┆ Company    ┆ Exchanges  ┆ Business   ┆ … ┆ Security   ┆ Excel     ┆ permno ┆ TICKER │\n",
      "│ Name       ┆ Type       ┆ [Primary   ┆ Relationsh ┆   ┆ Tickers    ┆ Company   ┆ ---    ┆ ---    │\n",
      "│ ---        ┆ ---        ┆ Listing]   ┆ ips (All   ┆   ┆ ---        ┆ ID        ┆ i64    ┆ str    │\n",
      "│ str        ┆ str        ┆ ---        ┆ Hi…        ┆   ┆ str        ┆ ---       ┆        ┆        │\n",
      "│            ┆            ┆ str        ┆ ---        ┆   ┆            ┆ str       ┆        ┆        │\n",
      "│            ┆            ┆            ┆ str        ┆   ┆            ┆           ┆        ┆        │\n",
      "╞════════════╪════════════╪════════════╪════════════╪═══╪════════════╪═══════════╪════════╪════════╡\n",
      "│ Bio-Rad    ┆ Public     ┆ New York   ┆ 10x        ┆ … ┆ NYSE:BIO;  ┆ IQ255743  ┆ 61508  ┆ BIO    │\n",
      "│ Laboratori ┆ Company    ┆ Stock      ┆ Genomics,  ┆   ┆ NYSE:BIO.B ┆           ┆        ┆        │\n",
      "│ es, Inc.   ┆            ┆ Exchange   ┆ Inc. (Nasd ┆   ┆ ;          ┆           ┆        ┆        │\n",
      "│ (NY…       ┆            ┆ (NYSE)     ┆ aqGS:T…    ┆   ┆ DB:BUWA;…  ┆           ┆        ┆        │\n",
      "│ McCormick  ┆ Public     ┆ New York   ┆ Advantage  ┆ … ┆ NYSE:MKC;  ┆ IQ181176  ┆ 89155  ┆ MKC    │\n",
      "│ & Company, ┆ Company    ┆ Stock      ┆ Sales &    ┆   ┆ WBAG:MKC;  ┆           ┆        ┆        │\n",
      "│ Incorpora… ┆            ┆ Exchange   ┆ Marketing  ┆   ┆ NYSE:MKC.V ┆           ┆        ┆        │\n",
      "│            ┆            ┆ (NYSE)     ┆ LL…        ┆   ┆ …          ┆           ┆        ┆        │\n",
      "│ Constellat ┆ Public     ┆ New York   ┆ 1st Consti ┆ … ┆ NYSE:STZ;  ┆ IQ258589  ┆ 64899  ┆ STZ    │\n",
      "│ ion        ┆ Company    ┆ Stock      ┆ tution     ┆   ┆ WBAG:STZ;  ┆           ┆        ┆        │\n",
      "│ Brands,    ┆            ┆ Exchange   ┆ Bank       ┆   ┆ BMV:STZ    ┆           ┆        ┆        │\n",
      "│ Inc. (NY…  ┆            ┆ (NYSE)     ┆ (Credito…  ┆   ┆ *;…        ┆           ┆        ┆        │\n",
      "│ Watsco,    ┆ Public     ┆ New York   ┆ Amerant    ┆ … ┆ NYSE:WSO;  ┆ IQ313461  ┆ 66376  ┆ WSO    │\n",
      "│ Inc.       ┆ Company    ┆ Stock      ┆ Bank,      ┆   ┆ NYSE:WSO.B ┆           ┆        ┆        │\n",
      "│ (NYSE:WSO) ┆            ┆ Exchange   ┆ National   ┆   ┆ ; BMV:WSO  ┆           ┆        ┆        │\n",
      "│            ┆            ┆ (NYSE)     ┆ Associa…   ┆   ┆ …          ┆           ┆        ┆        │\n",
      "│ Watsco,    ┆ Public     ┆ New York   ┆ Amerant    ┆ … ┆ NYSE:WSO;  ┆ IQ313461  ┆ 46068  ┆ WSO    │\n",
      "│ Inc.       ┆ Company    ┆ Stock      ┆ Bank,      ┆   ┆ NYSE:WSO.B ┆           ┆        ┆        │\n",
      "│ (NYSE:WSO) ┆            ┆ Exchange   ┆ National   ┆   ┆ ; BMV:WSO  ┆           ┆        ┆        │\n",
      "│            ┆            ┆ (NYSE)     ┆ Associa…   ┆   ┆ …          ┆           ┆        ┆        │\n",
      "│ …          ┆ …          ┆ …          ┆ …          ┆ … ┆ …          ┆ …         ┆ …      ┆ …      │\n",
      "│ Federal    ┆ Public     ┆ New York   ┆ AgFirst    ┆ … ┆ NYSE:AGM;  ┆ IQ360653  ┆ 80169  ┆ AGM    │\n",
      "│ Agricultur ┆ Company    ┆ Stock      ┆ Farm       ┆   ┆ NYSE:AGM.A ┆           ┆        ┆        │\n",
      "│ al         ┆            ┆ Exchange   ┆ Credit     ┆   ┆ ;          ┆           ┆        ┆        │\n",
      "│ Mortgage … ┆            ┆ (NYSE)     ┆ Bank       ┆   ┆ NYSE:AGM…  ┆           ┆        ┆        │\n",
      "│            ┆            ┆            ┆ (Cust…     ┆   ┆            ┆           ┆        ┆        │\n",
      "│ Greif,     ┆ Public     ┆ New York   ┆ 1st Farm   ┆ … ┆ NYSE:GEF;  ┆ IQ377361  ┆ 83233  ┆ GEF    │\n",
      "│ Inc.       ┆ Company    ┆ Stock      ┆ Credit     ┆   ┆ NYSE:GEF.B ┆           ┆        ┆        │\n",
      "│ (NYSE:GEF) ┆            ┆ Exchange   ┆ Services,  ┆   ┆ ; DB:GR3;  ┆           ┆        ┆        │\n",
      "│            ┆            ┆ (NYSE)     ┆ PCA        ┆   ┆ …          ┆           ┆        ┆        │\n",
      "│            ┆            ┆            ┆ …          ┆   ┆            ┆           ┆        ┆        │\n",
      "│ Gray       ┆ Public     ┆ New York   ┆ Alphabet   ┆ … ┆ NYSE:GTN;  ┆ IQ322777  ┆ 83989  ┆ GTN    │\n",
      "│ Media,     ┆ Company    ┆ Stock      ┆ Inc. (Nasd ┆   ┆ NYSE:GTN.A ┆           ┆        ┆        │\n",
      "│ Inc.       ┆            ┆ Exchange   ┆ aqGS:GOOGL ┆   ┆ ;          ┆           ┆        ┆        │\n",
      "│ (NYSE:GTN) ┆            ┆ (NYSE)     ┆ )…         ┆   ┆ DB:GCZB;…  ┆           ┆        ┆        │\n",
      "│ HEICO Corp ┆ Public     ┆ New York   ┆ Amerant    ┆ … ┆ NYSE:HEI;  ┆ IQ278143  ┆ 85945  ┆ HEI    │\n",
      "│ oration    ┆ Company    ┆ Stock      ┆ Bank,      ┆   ┆ NYSE:HEI.A ┆           ┆        ┆        │\n",
      "│ (NYSE:HEI) ┆            ┆ Exchange   ┆ National   ┆   ┆ ;          ┆           ┆        ┆        │\n",
      "│            ┆            ┆ (NYSE)     ┆ Associa…   ┆   ┆ LSE:0J46…  ┆           ┆        ┆        │\n",
      "│ Molson     ┆ Public     ┆ New York   ┆ 4iG Nyrt.  ┆ … ┆ NYSE:TAP;  ┆ IQ263765  ┆ 59248  ┆ TAP    │\n",
      "│ Coors      ┆ Company    ┆ Stock      ┆ (BUSE:4IG) ┆   ┆ NYSE:TAP.A ┆           ┆        ┆        │\n",
      "│ Beverage   ┆            ┆ Exchange   ┆ (Supplier… ┆   ┆ ;          ┆           ┆        ┆        │\n",
      "│ Company …  ┆            ┆ (NYSE)     ┆            ┆   ┆ LSE:0K2K…  ┆           ┆        ┆        │\n",
      "└────────────┴────────────┴────────────┴────────────┴───┴────────────┴───────────┴────────┴────────┘\n"
     ]
    }
   ],
   "source": [
    "# 假设 df 是你的 DataFrame\n",
    "duplicates = (\n",
    "    flitered.group_by(\"TICKER\")\n",
    "      .agg(pl.len().alias(\"count\"))\n",
    "      .filter(pl.col(\"count\") > 1)\n",
    "\n",
    ")\n",
    "# 2. 提取重复的 TICKER 列表\n",
    "dup_tickers = duplicates[\"TICKER\"].to_list()\n",
    "\n",
    "# 3. 使用 is_in 筛选出原始 DataFrame 中 TICKER 在重复列表中的行\n",
    "df_duplicates = flitered.filter(pl.col(\"TICKER\").is_in(dup_tickers))\n",
    "\n",
    "print(df_duplicates)"
   ]
  },
  {
   "cell_type": "code",
   "execution_count": 58,
   "metadata": {},
   "outputs": [
    {
     "name": "stdout",
     "output_type": "stream",
     "text": [
      "shape: (2, 13)\n",
      "┌────────┬────────┬────────────┬────────────┬───┬────────────┬────────────┬────────────┬───────────┐\n",
      "│ permno ┆ TICKER ┆ Company    ┆ Company    ┆ … ┆ Industry   ┆ Headquarte ┆ Security   ┆ Excel     │\n",
      "│ ---    ┆ ---    ┆ Name       ┆ Type       ┆   ┆ Classifica ┆ rs - Count ┆ Tickers    ┆ Company   │\n",
      "│ i64    ┆ str    ┆ ---        ┆ ---        ┆   ┆ tions      ┆ ry/Region  ┆ ---        ┆ ID        │\n",
      "│        ┆        ┆ str        ┆ str        ┆   ┆ ---        ┆ ---        ┆ str        ┆ ---       │\n",
      "│        ┆        ┆            ┆            ┆   ┆ str        ┆ str        ┆            ┆ str       │\n",
      "╞════════╪════════╪════════════╪════════════╪═══╪════════════╪════════════╪════════════╪═══════════╡\n",
      "│ 66376  ┆ WSO    ┆ Watsco,    ┆ Public     ┆ … ┆ Capital    ┆ United     ┆ NYSE:WSO;  ┆ IQ313461  │\n",
      "│        ┆        ┆ Inc.       ┆ Company    ┆   ┆ Goods      ┆ States     ┆ NYSE:WSO.B ┆           │\n",
      "│        ┆        ┆ (NYSE:WSO) ┆            ┆   ┆ (Primary); ┆            ┆ ; BMV:WSO  ┆           │\n",
      "│        ┆        ┆            ┆            ┆   ┆ Indus…     ┆            ┆ …          ┆           │\n",
      "│ 46068  ┆ WSO    ┆ Watsco,    ┆ Public     ┆ … ┆ Capital    ┆ United     ┆ NYSE:WSO;  ┆ IQ313461  │\n",
      "│        ┆        ┆ Inc.       ┆ Company    ┆   ┆ Goods      ┆ States     ┆ NYSE:WSO.B ┆           │\n",
      "│        ┆        ┆ (NYSE:WSO) ┆            ┆   ┆ (Primary); ┆            ┆ ; BMV:WSO  ┆           │\n",
      "│        ┆        ┆            ┆            ┆   ┆ Indus…     ┆            ┆ …          ┆           │\n",
      "└────────┴────────┴────────────┴────────────┴───┴────────────┴────────────┴────────────┴───────────┘\n"
     ]
    }
   ],
   "source": [
    "null_rows = merged_df.filter(pl.col(\"TICKER\") == 'WSO')\n",
    "print(null_rows)"
   ]
  }
 ],
 "metadata": {
  "kernelspec": {
   "display_name": "nlp",
   "language": "python",
   "name": "python3"
  },
  "language_info": {
   "codemirror_mode": {
    "name": "ipython",
    "version": 3
   },
   "file_extension": ".py",
   "mimetype": "text/x-python",
   "name": "python",
   "nbconvert_exporter": "python",
   "pygments_lexer": "ipython3",
   "version": "3.12.7"
  }
 },
 "nbformat": 4,
 "nbformat_minor": 2
}
