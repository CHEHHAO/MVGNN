{
 "cells": [
  {
   "cell_type": "code",
   "execution_count": null,
   "metadata": {},
   "outputs": [],
   "source": [
    "import pandas as pd\n",
    "import polars as pl\n",
    "import utils\n",
    "from datetime import datetime\n"
   ]
  },
  {
   "cell_type": "code",
   "execution_count": 65,
   "metadata": {},
   "outputs": [],
   "source": [
    "def data_info(df):\n",
    "    print(df.shape)\n",
    "    # 查看过滤后的 DATE 范围（以整数形式获取最小和最大值）\n",
    "    min_date = df.select(pl.col(\"DATE\").min()).to_series()[0]\n",
    "    max_date = df.select(pl.col(\"DATE\").max()).to_series()[0]\n",
    "    print(f\"\\n过滤后的数据 DATE 范围（整数格式）：最小值 = {min_date}, 最大值 = {max_date}\")\n",
    "\n",
    "    # 如果希望将整数格式转换为 datetime 格式，可以使用如下函数\n",
    "    def int_to_date(date_int):\n",
    "        return datetime.strptime(str(date_int), \"%Y%m%d\")\n",
    "\n",
    "    print(f\"转换后：最小日期 = {int_to_date(min_date)}, 最大日期 = {int_to_date(max_date)}\")\n",
    "\n",
    "    # 统计唯一的 permno 数量\n",
    "    permno_count = df.select(pl.col(\"permno\").n_unique()).to_series()[0]\n",
    "    print(f\"\\n唯一 permno 数量：{permno_count}\")"
   ]
  },
  {
   "cell_type": "code",
   "execution_count": 123,
   "metadata": {},
   "outputs": [
    {
     "name": "stdout",
     "output_type": "stream",
     "text": [
      "(762136, 97)\n",
      "\n",
      "过滤后的数据 DATE 范围（整数格式）：最小值 = 20110131, 最大值 = 20211231\n",
      "转换后：最小日期 = 2011-01-31 00:00:00, 最大日期 = 2021-12-31 00:00:00\n",
      "\n",
      "唯一 permno 数量：10734\n"
     ]
    }
   ],
   "source": [
    "sub6_data = utils.load_data('data/sub6_data.csv')\n",
    "data_info(sub6_data)"
   ]
  },
  {
   "cell_type": "code",
   "execution_count": 68,
   "metadata": {},
   "outputs": [
    {
     "name": "stdout",
     "output_type": "stream",
     "text": [
      "(109800, 98)\n",
      "\n",
      "过滤后的数据 DATE 范围（整数格式）：最小值 = 20180131, 最大值 = 20201231\n",
      "转换后：最小日期 = 2018-01-31 00:00:00, 最大日期 = 2020-12-31 00:00:00\n",
      "\n",
      "唯一 permno 数量：3050\n"
     ]
    }
   ],
   "source": [
    "vgnn_data = utils.load_data('data/saved_data.csv')\n",
    "data_info(vgnn_data)"
   ]
  },
  {
   "cell_type": "code",
   "execution_count": 69,
   "metadata": {},
   "outputs": [
    {
     "name": "stdout",
     "output_type": "stream",
     "text": [
      "筛选后大表中 permno 的数量: 3050\n"
     ]
    }
   ],
   "source": [
    "# 假设 vgnn_data 和 sub6_data 都是 Polars DataFrame\n",
    "# 获取小表中唯一的 permno 值\n",
    "permno_list = vgnn_data['permno'].unique()\n",
    "\n",
    "# 使用 Polars 的 is_in 方法筛选大表\n",
    "filtered_large_df = sub6_data.filter(pl.col('permno').is_in(permno_list))\n",
    "\n",
    "# 查看筛选后大表中唯一 permno 的数量\n",
    "filtered_permno_count = filtered_large_df['permno'].n_unique()\n",
    "print(f\"筛选后大表中 permno 的数量: {filtered_permno_count}\")\n"
   ]
  },
  {
   "cell_type": "code",
   "execution_count": 70,
   "metadata": {},
   "outputs": [
    {
     "name": "stdout",
     "output_type": "stream",
     "text": [
      "小表中有而大表中没有的列： {'RET_target'}\n",
      "大表中有而小表中没有的列： set()\n"
     ]
    }
   ],
   "source": [
    "# 找出只存在于小表中的列（即大表中缺失的列）\n",
    "columns_only_in_small = set(vgnn_data.columns) - set(filtered_large_df.columns)\n",
    "# 找出只存在于大表中的列（小表中缺失的列）\n",
    "columns_only_in_big = set(filtered_large_df.columns) - set(vgnn_data.columns)\n",
    "\n",
    "print(\"小表中有而大表中没有的列：\", columns_only_in_small)\n",
    "print(\"大表中有而小表中没有的列：\", columns_only_in_big)"
   ]
  },
  {
   "cell_type": "code",
   "execution_count": 10,
   "metadata": {},
   "outputs": [
    {
     "name": "stdout",
     "output_type": "stream",
     "text": [
      "\n",
      "permno 10026 的数据:\n",
      "shape: (132, 97)\n",
      "┌────────┬──────────┬──────────────┬──────────┬───┬────────────┬──────────┬───────────┬──────┐\n",
      "│ permno ┆ DATE     ┆ mvel1        ┆ beta     ┆ … ┆ std_dolvol ┆ std_turn ┆ zerotrade ┆ sic2 │\n",
      "│ ---    ┆ ---      ┆ ---          ┆ ---      ┆   ┆ ---        ┆ ---      ┆ ---       ┆ ---  │\n",
      "│ i64    ┆ i64      ┆ f64          ┆ f64      ┆   ┆ f64        ┆ f64      ┆ f64       ┆ f64  │\n",
      "╞════════╪══════════╪══════════════╪══════════╪═══╪════════════╪══════════╪═══════════╪══════╡\n",
      "│ 10026  ┆ 20110131 ┆ 894466.11112 ┆ 0.563942 ┆ … ┆ 0.651141   ┆ 1.825713 ┆ 3.2199e-8 ┆ 20.0 │\n",
      "│ 10026  ┆ 20110228 ┆ 788710.39267 ┆ 0.564159 ┆ … ┆ 0.368276   ┆ 1.370279 ┆ 3.1404e-8 ┆ 20.0 │\n",
      "│ 10026  ┆ 20110331 ┆ 816566.89267 ┆ 0.581094 ┆ … ┆ 0.576531   ┆ 2.265086 ┆ 3.1326e-8 ┆ 20.0 │\n",
      "│ 10026  ┆ 20110429 ┆ 874513.52433 ┆ 0.581966 ┆ … ┆ 0.509962   ┆ 2.176758 ┆ 2.4832e-8 ┆ 20.0 │\n",
      "│ 10026  ┆ 20110531 ┆ 944438.87433 ┆ 0.57539  ┆ … ┆ 0.325939   ┆ 0.763993 ┆ 4.6153e-8 ┆ 20.0 │\n",
      "│ …      ┆ …        ┆ …            ┆ …        ┆ … ┆ …          ┆ …        ┆ …         ┆ …    │\n",
      "│ 10026  ┆ 20210831 ┆ 3.1337e6     ┆ 0.581882 ┆ … ┆ 0.297161   ┆ 0.999493 ┆ 3.0076e-8 ┆ 20.0 │\n",
      "│ 10026  ┆ 20210930 ┆ 3.1219e6     ┆ 0.583269 ┆ … ┆ 0.357876   ┆ 0.980406 ┆ 3.4775e-8 ┆ 20.0 │\n",
      "│ 10026  ┆ 20211029 ┆ 2.9164e6     ┆ 0.585237 ┆ … ┆ 0.464515   ┆ 3.446599 ┆ 2.6951e-8 ┆ 20.0 │\n",
      "│ 10026  ┆ 20211130 ┆ 2.8158e6     ┆ 0.593039 ┆ … ┆ 0.377236   ┆ 1.080015 ┆ 3.9623e-8 ┆ 20.0 │\n",
      "│ 10026  ┆ 20211231 ┆ 2.6066e6     ┆ 0.594458 ┆ … ┆ 0.288559   ┆ 1.070672 ┆ 3.1526e-8 ┆ 20.0 │\n",
      "└────────┴──────────┴──────────────┴──────────┴───┴────────────┴──────────┴───────────┴──────┘\n",
      "\n",
      "permno 10026 的数据行数: 132\n",
      "\n",
      "permno 10026 的选定列数据:\n",
      "shape: (132, 3)\n",
      "┌────────┬──────────┬──────────────┐\n",
      "│ permno ┆ DATE     ┆ mvel1        │\n",
      "│ ---    ┆ ---      ┆ ---          │\n",
      "│ i64    ┆ i64      ┆ f64          │\n",
      "╞════════╪══════════╪══════════════╡\n",
      "│ 10026  ┆ 20110131 ┆ 894466.11112 │\n",
      "│ 10026  ┆ 20110228 ┆ 788710.39267 │\n",
      "│ 10026  ┆ 20110331 ┆ 816566.89267 │\n",
      "│ 10026  ┆ 20110429 ┆ 874513.52433 │\n",
      "│ 10026  ┆ 20110531 ┆ 944438.87433 │\n",
      "│ …      ┆ …        ┆ …            │\n",
      "│ 10026  ┆ 20210831 ┆ 3.1337e6     │\n",
      "│ 10026  ┆ 20210930 ┆ 3.1219e6     │\n",
      "│ 10026  ┆ 20211029 ┆ 2.9164e6     │\n",
      "│ 10026  ┆ 20211130 ┆ 2.8158e6     │\n",
      "│ 10026  ┆ 20211231 ┆ 2.6066e6     │\n",
      "└────────┴──────────┴──────────────┘\n"
     ]
    }
   ],
   "source": [
    "specific_permno = 10026\n",
    "\n",
    "filtered_df = filtered_large_df.filter(pl.col(\"permno\") == specific_permno)\n",
    "\n",
    "print(f\"\\npermno {specific_permno} 的数据:\")\n",
    "print(filtered_df)\n",
    "\n",
    "# 显示该 permno 的数据行数\n",
    "print(f\"\\npermno {specific_permno} 的数据行数:\", filtered_df.shape[0])\n",
    "\n",
    "# 如果想查看特定列，可以选择需要的列\n",
    "# 例如只查看 DATE 和其他感兴趣的列\n",
    "selected_columns = [\"permno\", \"DATE\", \"mvel1\"]  # 添加你感兴趣的其他列\n",
    "filtered_df_selected = filtered_df.select(selected_columns)\n",
    "print(f\"\\npermno {specific_permno} 的选定列数据:\")\n",
    "print(filtered_df_selected)"
   ]
  },
  {
   "cell_type": "code",
   "execution_count": 85,
   "metadata": {},
   "outputs": [],
   "source": [
    "def convert_file_for_polars(input_path, output_path):\n",
    "    # 使用pandas读取文件\n",
    "    df = pd.read_csv(input_path)\n",
    "    \n",
    "    # 处理特殊字符，如 'B' 值\n",
    "    # 将 'B' 替换为 None/NaN\n",
    "    for column in df.columns:\n",
    "        if df[column].dtype == 'object':\n",
    "            df[column] = pd.to_numeric(df[column].replace('B', None), errors='coerce')\n",
    "    \n",
    "    # 重命名列\n",
    "    column_mapping = {\n",
    "        'PERMNO': 'permno',\n",
    "        'date': 'DATE',\n",
    "        'RET': 'RET_target'\n",
    "    }\n",
    "    df = df.rename(columns=column_mapping)\n",
    "    \n",
    "    # 保存为CSV，使用一个polars友好的格式\n",
    "    df.to_csv(output_path, index=False, na_rep='')\n",
    "\n",
    "# 使用示例\n",
    "# convert_file_for_polars('data/ret_data.csv', 'data/return_processed.csv')"
   ]
  },
  {
   "cell_type": "code",
   "execution_count": 86,
   "metadata": {},
   "outputs": [],
   "source": [
    "convert_file_for_polars('data/ret_data.csv', 'data/return_processed.csv')\n",
    "ret = utils.load_data('data/return_processed.csv')"
   ]
  },
  {
   "cell_type": "code",
   "execution_count": 126,
   "metadata": {},
   "outputs": [
    {
     "name": "stdout",
     "output_type": "stream",
     "text": [
      "(793967, 5)\n",
      "\n",
      "过滤后的数据 DATE 范围（整数格式）：最小值 = 20110131, 最大值 = 20220131\n",
      "转换后：最小日期 = 2011-01-31 00:00:00, 最大日期 = 2022-01-31 00:00:00\n",
      "\n",
      "唯一 permno 数量：10734\n"
     ]
    }
   ],
   "source": [
    "ret = utils.load_data('data/return_processed.csv')\n",
    "\n",
    "data_info(ret)"
   ]
  },
  {
   "cell_type": "code",
   "execution_count": 115,
   "metadata": {},
   "outputs": [
    {
     "name": "stdout",
     "output_type": "stream",
     "text": [
      "\n",
      "permno 10026 的数据:\n",
      "shape: (133, 5)\n",
      "┌────────┬──────────┬────────┬────────────┬────────────┐\n",
      "│ permno ┆ DATE     ┆ TICKER ┆ CUSIP      ┆ RET_target │\n",
      "│ ---    ┆ ---      ┆ ---    ┆ ---        ┆ ---        │\n",
      "│ i64    ┆ i64      ┆ str    ┆ f64        ┆ f64        │\n",
      "╞════════╪══════════╪════════╪════════════╪════════════╡\n",
      "│ 10026  ┆ 20110131 ┆ null   ┆ 4.660321e7 ┆ -0.11961   │\n",
      "│ 10026  ┆ 20110228 ┆ null   ┆ 4.660321e7 ┆ 0.035319   │\n",
      "│ 10026  ┆ 20110331 ┆ null   ┆ 4.660321e7 ┆ 0.073175   │\n",
      "│ 10026  ┆ 20110429 ┆ null   ┆ 4.660321e7 ┆ 0.079669   │\n",
      "│ 10026  ┆ 20110531 ┆ null   ┆ 4.660321e7 ┆ 0.013774   │\n",
      "│ …      ┆ …        ┆ …      ┆ …          ┆ …          │\n",
      "│ 10026  ┆ 20210930 ┆ null   ┆ 4.660321e7 ┆ -0.06294   │\n",
      "│ 10026  ┆ 20211029 ┆ null   ┆ 4.660321e7 ┆ -0.034485  │\n",
      "│ 10026  ┆ 20211130 ┆ null   ┆ 4.660321e7 ┆ -0.074348  │\n",
      "│ 10026  ┆ 20211231 ┆ null   ┆ 4.660321e7 ┆ 0.161173   │\n",
      "│ 10026  ┆ 20220131 ┆ null   ┆ 4.660321e7 ┆ -0.039694  │\n",
      "└────────┴──────────┴────────┴────────────┴────────────┘\n",
      "\n",
      "permno 10026 的数据行数: 132\n"
     ]
    }
   ],
   "source": [
    "specific_permno = 10026\n",
    "\n",
    "ret_f = ret.filter(pl.col(\"permno\") == specific_permno)\n",
    "\n",
    "print(f\"\\npermno {specific_permno} 的数据:\")\n",
    "print(ret_f)\n",
    "\n",
    "# 显示该 permno 的数据行数\n",
    "print(f\"\\npermno {specific_permno} 的数据行数:\", filtered_df.shape[0])"
   ]
  },
  {
   "cell_type": "code",
   "execution_count": 116,
   "metadata": {},
   "outputs": [
    {
     "name": "stdout",
     "output_type": "stream",
     "text": [
      "shape: (10, 5)\n",
      "┌────────┬──────────┬────────┬────────────┬────────────┐\n",
      "│ permno ┆ DATE     ┆ TICKER ┆ CUSIP      ┆ RET_target │\n",
      "│ ---    ┆ ---      ┆ ---    ┆ ---        ┆ ---        │\n",
      "│ i64    ┆ i64      ┆ str    ┆ f64        ┆ f64        │\n",
      "╞════════╪══════════╪════════╪════════════╪════════════╡\n",
      "│ 10026  ┆ 20180131 ┆ null   ┆ 4.660321e7 ┆ -0.088191  │\n",
      "│ 10026  ┆ 20180228 ┆ null   ┆ 4.660321e7 ┆ -0.029688  │\n",
      "│ 10026  ┆ 20180329 ┆ null   ┆ 4.660321e7 ┆ 0.019951   │\n",
      "│ 10026  ┆ 20180430 ┆ null   ┆ 4.660321e7 ┆ 0.006224   │\n",
      "│ 10026  ┆ 20180531 ┆ null   ┆ 4.660321e7 ┆ 0.030638   │\n",
      "│ 10026  ┆ 20180629 ┆ null   ┆ 4.660321e7 ┆ 0.079791   │\n",
      "│ 10026  ┆ 20180731 ┆ null   ┆ 4.660321e7 ┆ -0.049256  │\n",
      "│ 10026  ┆ 20180831 ┆ null   ┆ 4.660321e7 ┆ 0.003725   │\n",
      "│ 10026  ┆ 20180928 ┆ null   ┆ 4.660321e7 ┆ 0.040137   │\n",
      "│ 10026  ┆ 20181031 ┆ null   ┆ 4.660321e7 ┆ 0.034926   │\n",
      "└────────┴──────────┴────────┴────────────┴────────────┘\n",
      "shape: (10, 4)\n",
      "┌────────┬──────────┬──────────┬────────────┐\n",
      "│ permno ┆ DATE     ┆ mvel1    ┆ RET_target │\n",
      "│ ---    ┆ ---      ┆ ---      ┆ ---        │\n",
      "│ i64    ┆ i64      ┆ f64      ┆ f64        │\n",
      "╞════════╪══════════╪══════════╪════════════╡\n",
      "│ 10026  ┆ 20180131 ┆ 0.511783 ┆ -0.029688  │\n",
      "│ 10026  ┆ 20180228 ┆ 0.480437 ┆ 0.019951   │\n",
      "│ 10026  ┆ 20180329 ┆ 0.483046 ┆ 0.006224   │\n",
      "│ 10026  ┆ 20180430 ┆ 0.487289 ┆ 0.030638   │\n",
      "│ 10026  ┆ 20180531 ┆ 0.484854 ┆ 0.079791   │\n",
      "│ 10026  ┆ 20180629 ┆ 0.479137 ┆ -0.049256  │\n",
      "│ 10026  ┆ 20180731 ┆ 0.501625 ┆ 0.003725   │\n",
      "│ 10026  ┆ 20180831 ┆ 0.47445  ┆ 0.040137   │\n",
      "│ 10026  ┆ 20180928 ┆ 0.470621 ┆ 0.034926   │\n",
      "│ 10026  ┆ 20181031 ┆ 0.485662 ┆ 0.004547   │\n",
      "└────────┴──────────┴──────────┴────────────┘\n"
     ]
    }
   ],
   "source": [
    "ret_f = ret_f.filter(pl.col(\"DATE\") >= 20180131)\n",
    "print(ret_f.head(10))\n",
    "filtered_vgnn_data_df = vgnn_data.filter(pl.col(\"permno\") == specific_permno)\n",
    "print(filtered_vgnn_data_df[['permno', 'DATE', 'mvel1', 'RET_target']].head(10))"
   ]
  },
  {
   "cell_type": "code",
   "execution_count": 149,
   "metadata": {},
   "outputs": [],
   "source": [
    "def merge_with_lag(sub6_data, ret_data):\n",
    "    # 1. 确保ret_data中(permno, DATE)是唯一的（如果有重复）\n",
    "    ret_data = ret_data.unique(subset=['permno', 'DATE'], keep='first')\n",
    "    \n",
    "    # 2. 直接合并\n",
    "    merged_df = sub6_data.join(\n",
    "        ret_data.select(['permno', 'DATE', 'RET_target']),\n",
    "        on=['permno', 'DATE'],\n",
    "        how='left'\n",
    "    )\n",
    "    \n",
    "    # 3. 打印一些统计信息\n",
    "    print(f\"\\n合并后的结果：\")\n",
    "    print(f\"sub6_data行数: {sub6_data.shape[0]}\")\n",
    "    print(f\"合并后行数: {merged_df.shape[0]}\")\n",
    "    print(f\"RET_target非空值数量: {merged_df.filter(pl.col('RET_target').is_not_null()).shape[0]}\")\n",
    "    \n",
    "    return merged_df"
   ]
  },
  {
   "cell_type": "code",
   "execution_count": 160,
   "metadata": {},
   "outputs": [],
   "source": [
    "def merge_with_lag(sub6_data, ret_data):\n",
    "    # 1. 确保ret_data中(permno, DATE)是唯一的\n",
    "    ret_data = ret_data.unique(subset=['permno', 'DATE'], keep='first')\n",
    "    \n",
    "    # 2. 对每个permno，将RET_target向前移动一行\n",
    "    shifted_ret = (ret_data\n",
    "                  .sort(['permno', 'DATE'])\n",
    "                  .with_columns([\n",
    "                      pl.col('RET_target').shift(-1).over(['permno']).alias('RET_target_shifted')\n",
    "                  ])\n",
    "                  .drop('RET_target')\n",
    "                  .rename({'RET_target_shifted': 'RET_target'}))\n",
    "    \n",
    "    # 3. 合并到sub6_data\n",
    "    merged_df = sub6_data.join(\n",
    "        shifted_ret.select(['permno', 'DATE', 'RET_target']),\n",
    "        on=['permno', 'DATE'],\n",
    "        how='left'\n",
    "    )\n",
    "    \n",
    "    # 4. 打印一些统计信息\n",
    "    print(f\"\\n合并后的结果：\")\n",
    "    print(f\"sub6_data行数: {sub6_data.shape[0]}\")\n",
    "    print(f\"合并后行数: {merged_df.shape[0]}\")\n",
    "    print(f\"RET_target非空值数量: {merged_df.filter(pl.col('RET_target').is_not_null()).shape[0]}\")\n",
    "    \n",
    "    return merged_df"
   ]
  },
  {
   "cell_type": "code",
   "execution_count": 171,
   "metadata": {},
   "outputs": [
    {
     "name": "stdout",
     "output_type": "stream",
     "text": [
      "\n",
      "合并后的结果：\n",
      "sub6_data行数: 762136\n",
      "合并后行数: 762136\n",
      "RET_target非空值数量: 754961\n"
     ]
    }
   ],
   "source": [
    "# 然后合并数据\n",
    "result_df = merge_with_lag(sub6_data, ret)"
   ]
  },
  {
   "cell_type": "code",
   "execution_count": 172,
   "metadata": {},
   "outputs": [
    {
     "name": "stdout",
     "output_type": "stream",
     "text": [
      "(762136, 98)\n",
      "\n",
      "过滤后的数据 DATE 范围（整数格式）：最小值 = 20110131, 最大值 = 20211231\n",
      "转换后：最小日期 = 2011-01-31 00:00:00, 最大日期 = 2021-12-31 00:00:00\n",
      "\n",
      "唯一 permno 数量：10734\n"
     ]
    }
   ],
   "source": [
    "data_info(result_df)"
   ]
  },
  {
   "cell_type": "code",
   "execution_count": 163,
   "metadata": {},
   "outputs": [
    {
     "name": "stdout",
     "output_type": "stream",
     "text": [
      "\n",
      "permno 10026 的数据:\n",
      "shape: (132, 98)\n",
      "┌────────┬──────────┬──────────────┬──────────┬───┬──────────┬───────────┬──────┬────────────┐\n",
      "│ permno ┆ DATE     ┆ mvel1        ┆ beta     ┆ … ┆ std_turn ┆ zerotrade ┆ sic2 ┆ RET_target │\n",
      "│ ---    ┆ ---      ┆ ---          ┆ ---      ┆   ┆ ---      ┆ ---       ┆ ---  ┆ ---        │\n",
      "│ i64    ┆ i64      ┆ f64          ┆ f64      ┆   ┆ f64      ┆ f64       ┆ f64  ┆ f64        │\n",
      "╞════════╪══════════╪══════════════╪══════════╪═══╪══════════╪═══════════╪══════╪════════════╡\n",
      "│ 10026  ┆ 20110131 ┆ 894466.11112 ┆ 0.563942 ┆ … ┆ 1.825713 ┆ 3.2199e-8 ┆ 20.0 ┆ 0.035319   │\n",
      "│ 10026  ┆ 20110228 ┆ 788710.39267 ┆ 0.564159 ┆ … ┆ 1.370279 ┆ 3.1404e-8 ┆ 20.0 ┆ 0.073175   │\n",
      "│ 10026  ┆ 20110331 ┆ 816566.89267 ┆ 0.581094 ┆ … ┆ 2.265086 ┆ 3.1326e-8 ┆ 20.0 ┆ 0.079669   │\n",
      "│ 10026  ┆ 20110429 ┆ 874513.52433 ┆ 0.581966 ┆ … ┆ 2.176758 ┆ 2.4832e-8 ┆ 20.0 ┆ 0.013774   │\n",
      "│ 10026  ┆ 20110531 ┆ 944438.87433 ┆ 0.57539  ┆ … ┆ 0.763993 ┆ 4.6153e-8 ┆ 20.0 ┆ -0.030134  │\n",
      "│ …      ┆ …        ┆ …            ┆ …        ┆ … ┆ …        ┆ …         ┆ …    ┆ …          │\n",
      "│ 10026  ┆ 20210831 ┆ 3.1337e6     ┆ 0.581882 ┆ … ┆ 0.999493 ┆ 3.0076e-8 ┆ 20.0 ┆ -0.06294   │\n",
      "│ 10026  ┆ 20210930 ┆ 3.1219e6     ┆ 0.583269 ┆ … ┆ 0.980406 ┆ 3.4775e-8 ┆ 20.0 ┆ -0.034485  │\n",
      "│ 10026  ┆ 20211029 ┆ 2.9164e6     ┆ 0.585237 ┆ … ┆ 3.446599 ┆ 2.6951e-8 ┆ 20.0 ┆ -0.074348  │\n",
      "│ 10026  ┆ 20211130 ┆ 2.8158e6     ┆ 0.593039 ┆ … ┆ 1.080015 ┆ 3.9623e-8 ┆ 20.0 ┆ 0.161173   │\n",
      "│ 10026  ┆ 20211231 ┆ 2.6066e6     ┆ 0.594458 ┆ … ┆ 1.070672 ┆ 3.1526e-8 ┆ 20.0 ┆ -0.039694  │\n",
      "└────────┴──────────┴──────────────┴──────────┴───┴──────────┴───────────┴──────┴────────────┘\n",
      "\n",
      "permno 10026 的数据行数: 132\n"
     ]
    }
   ],
   "source": [
    "specific_permno = 10026\n",
    "\n",
    "result_f = result_df.filter(pl.col(\"permno\") == specific_permno)\n",
    "\n",
    "print(f\"\\npermno {specific_permno} 的数据:\")\n",
    "print(result_f)\n",
    "\n",
    "# 显示该 permno 的数据行数\n",
    "print(f\"\\npermno {specific_permno} 的数据行数:\", filtered_df.shape[0])"
   ]
  },
  {
   "cell_type": "code",
   "execution_count": 164,
   "metadata": {},
   "outputs": [
    {
     "name": "stdout",
     "output_type": "stream",
     "text": [
      "shape: (10, 98)\n",
      "┌────────┬──────────┬────────────┬──────────┬───┬──────────┬───────────┬──────┬────────────┐\n",
      "│ permno ┆ DATE     ┆ mvel1      ┆ beta     ┆ … ┆ std_turn ┆ zerotrade ┆ sic2 ┆ RET_target │\n",
      "│ ---    ┆ ---      ┆ ---        ┆ ---      ┆   ┆ ---      ┆ ---       ┆ ---  ┆ ---        │\n",
      "│ i64    ┆ i64      ┆ f64        ┆ f64      ┆   ┆ f64      ┆ f64       ┆ f64  ┆ f64        │\n",
      "╞════════╪══════════╪════════════╪══════════╪═══╪══════════╪═══════════╪══════╪════════════╡\n",
      "│ 10026  ┆ 20180131 ┆ 2.8344e6   ┆ 0.643161 ┆ … ┆ 1.670387 ┆ 3.4546e-8 ┆ 20.0 ┆ -0.029688  │\n",
      "│ 10026  ┆ 20180228 ┆ 2.5858e6   ┆ 0.617265 ┆ … ┆ 2.317696 ┆ 2.2002e-8 ┆ 20.0 ┆ 0.019951   │\n",
      "│ 10026  ┆ 20180329 ┆ 2.5090e6   ┆ 0.585592 ┆ … ┆ 1.602548 ┆ 2.5811e-8 ┆ 20.0 ┆ 0.006224   │\n",
      "│ 10026  ┆ 20180430 ┆ 2.5533e6   ┆ 0.649596 ┆ … ┆ 2.013959 ┆ 2.7490e-8 ┆ 20.0 ┆ 0.030638   │\n",
      "│ 10026  ┆ 20180531 ┆ 2.5698e6   ┆ 0.673609 ┆ … ┆ 1.433237 ┆ 3.1137e-8 ┆ 20.0 ┆ 0.079791   │\n",
      "│ 10026  ┆ 20180629 ┆ 2.6486e6   ┆ 0.671337 ┆ … ┆ 1.120365 ┆ 2.3394e-8 ┆ 20.0 ┆ -0.049256  │\n",
      "│ 10026  ┆ 20180731 ┆ 2.8507e6   ┆ 0.678936 ┆ … ┆ 1.007941 ┆ 2.5052e-8 ┆ 20.0 ┆ 0.003725   │\n",
      "│ 10026  ┆ 20180831 ┆ 2.7131e6   ┆ 0.684661 ┆ … ┆ 2.3124   ┆ 2.5015e-8 ┆ 20.0 ┆ 0.040137   │\n",
      "│ 10026  ┆ 20180928 ┆ 2.723178e6 ┆ 0.674778 ┆ … ┆ 1.319898 ┆ 2.6713e-8 ┆ 20.0 ┆ 0.034926   │\n",
      "│ 10026  ┆ 20181031 ┆ 2.8298e6   ┆ 0.693797 ┆ … ┆ 1.878228 ┆ 3.2566e-8 ┆ 20.0 ┆ 0.004547   │\n",
      "└────────┴──────────┴────────────┴──────────┴───┴──────────┴───────────┴──────┴────────────┘\n",
      "shape: (10, 4)\n",
      "┌────────┬──────────┬──────────┬────────────┐\n",
      "│ permno ┆ DATE     ┆ mvel1    ┆ RET_target │\n",
      "│ ---    ┆ ---      ┆ ---      ┆ ---        │\n",
      "│ i64    ┆ i64      ┆ f64      ┆ f64        │\n",
      "╞════════╪══════════╪══════════╪════════════╡\n",
      "│ 10026  ┆ 20180131 ┆ 0.511783 ┆ -0.029688  │\n",
      "│ 10026  ┆ 20180228 ┆ 0.480437 ┆ 0.019951   │\n",
      "│ 10026  ┆ 20180329 ┆ 0.483046 ┆ 0.006224   │\n",
      "│ 10026  ┆ 20180430 ┆ 0.487289 ┆ 0.030638   │\n",
      "│ 10026  ┆ 20180531 ┆ 0.484854 ┆ 0.079791   │\n",
      "│ 10026  ┆ 20180629 ┆ 0.479137 ┆ -0.049256  │\n",
      "│ 10026  ┆ 20180731 ┆ 0.501625 ┆ 0.003725   │\n",
      "│ 10026  ┆ 20180831 ┆ 0.47445  ┆ 0.040137   │\n",
      "│ 10026  ┆ 20180928 ┆ 0.470621 ┆ 0.034926   │\n",
      "│ 10026  ┆ 20181031 ┆ 0.485662 ┆ 0.004547   │\n",
      "└────────┴──────────┴──────────┴────────────┘\n"
     ]
    }
   ],
   "source": [
    "result_f = result_f.filter(pl.col(\"DATE\") >= 20180131)\n",
    "print(result_f.head(10))\n",
    "filtered_vgnn_data_df = vgnn_data.filter(pl.col(\"permno\") == specific_permno)\n",
    "print(filtered_vgnn_data_df[['permno', 'DATE', 'mvel1', 'RET_target']].head(10))"
   ]
  },
  {
   "cell_type": "code",
   "execution_count": 173,
   "metadata": {},
   "outputs": [
    {
     "name": "stdout",
     "output_type": "stream",
     "text": [
      "筛选后大表中 permno 的数量: 3050\n"
     ]
    }
   ],
   "source": [
    "# 假设 vgnn_data 和 sub6_data 都是 Polars DataFrame\n",
    "# 获取小表中唯一的 permno 值\n",
    "permno_list = vgnn_data['permno'].unique()\n",
    "\n",
    "# 使用 Polars 的 is_in 方法筛选大表\n",
    "filtered_large_df = result_df.filter(pl.col('permno').is_in(permno_list))\n",
    "\n",
    "# 查看筛选后大表中唯一 permno 的数量\n",
    "filtered_permno_count = filtered_large_df['permno'].n_unique()\n",
    "print(f\"筛选后大表中 permno 的数量: {filtered_permno_count}\")"
   ]
  },
  {
   "cell_type": "code",
   "execution_count": 179,
   "metadata": {},
   "outputs": [
    {
     "name": "stdout",
     "output_type": "stream",
     "text": [
      "(401830, 98)\n",
      "\n",
      "过滤后的数据 DATE 范围（整数格式）：最小值 = 20110131, 最大值 = 20211231\n",
      "转换后：最小日期 = 2011-01-31 00:00:00, 最大日期 = 2021-12-31 00:00:00\n",
      "\n",
      "唯一 permno 数量：3050\n"
     ]
    }
   ],
   "source": [
    "data_info(filtered_large_df)"
   ]
  },
  {
   "cell_type": "code",
   "execution_count": null,
   "metadata": {},
   "outputs": [],
   "source": [
    "filtered_large_df.write_csv(\"data/preprocess_dataset.csv\")"
   ]
  }
 ],
 "metadata": {
  "kernelspec": {
   "display_name": "VGNN",
   "language": "python",
   "name": "python3"
  },
  "language_info": {
   "codemirror_mode": {
    "name": "ipython",
    "version": 3
   },
   "file_extension": ".py",
   "mimetype": "text/x-python",
   "name": "python",
   "nbconvert_exporter": "python",
   "pygments_lexer": "ipython3",
   "version": "3.8.20"
  }
 },
 "nbformat": 4,
 "nbformat_minor": 2
}
